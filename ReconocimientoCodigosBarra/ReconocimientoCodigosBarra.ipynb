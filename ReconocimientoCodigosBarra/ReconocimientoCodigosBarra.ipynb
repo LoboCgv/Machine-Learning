{
 "cells": [
  {
   "cell_type": "code",
   "execution_count": 1,
   "metadata": {},
   "outputs": [],
   "source": [
    "import cv2\n",
    "import tensorflow as tf"
   ]
  },
  {
   "cell_type": "code",
   "execution_count": null,
   "metadata": {},
   "outputs": [],
   "source": [
    "#open cv para realizar un arreglo multidimensional de las imagenes\n",
    "def read_image(path):\n",
    "    imagen = cv2.imread(path)#path es la dirección absoluta o relativa según el sistema operativo\n",
    "    #imread carga la imagen en formato vector\n",
    "    imagen = cv2.cvtColor(imagen, cv2.COLOR_BGR2RGB)#convierte en escala de grises la foto.\n",
    "    #utiliza algo similar al algoritmo de Cammy\n",
    "    return imagen\n"
   ]
  },
  {
   "cell_type": "code",
   "execution_count": null,
   "metadata": {},
   "outputs": [],
   "source": [
    "import os\n",
    "#Variable para la ruta al directorio\n",
    "path = './data/entrenamiento/'\n",
    " \n",
    "#Lista vacia para incluir los ficheros\n",
    "lstFiles = []\n",
    " \n",
    "#Lista con todos los ficheros del directorio:\n",
    "lstDir = os.walk(path)   #os.walk()Lista directorios y ficheros\n",
    "toTrain=np.array([])\n",
    "labels=[]\n",
    "#Crea una lista de los ficheros jpg que existen en el directorio y los incluye a la lista.\n",
    "from PIL import Image\n",
    "\n",
    "for root, dirs, files in lstDir:\n",
    "    i=0\n",
    "    for fichero in files:\n",
    "        (nombreFichero, extension) = os.path.splitext(fichero)\n",
    "        \n",
    "        lstFiles.append(nombreFichero+extension)\n",
    "        actual=path+nombreFichero+extension        \n",
    "        print(actual)\n",
    "        foto = Image.open(actual)\n",
    "        datos = list(foto.getdata())     \n",
    "        labels.append(0)\n",
    "        foto.close()\n",
    "        \n",
    "        i=i+1\n",
    "print(toTrain.size())"
   ]
  },
  {
   "cell_type": "code",
   "execution_count": null,
   "metadata": {},
   "outputs": [],
   "source": [
    "path = './data/validacion/'\n",
    " \n",
    "#Lista vacia para incluir los ficheros\n",
    "lstFiles = []\n",
    " \n",
    "#Lista con todos los ficheros del directorio:\n",
    "lstDir = os.walk(path)   #os.walk()Lista directorios y ficheros\n",
    "toVal=[]\n",
    "#Crea una lista de los ficheros jpg que existen en el directorio y los incluye a la lista.\n",
    "from PIL import Image\n",
    "\n",
    "for root, dirs, files in lstDir:\n",
    "    for fichero in files:\n",
    "        (nombreFichero, extension) = os.path.splitext(fichero)\n",
    "        \n",
    "        lstFiles.append(nombreFichero+extension)\n",
    "        actual=path+nombreFichero+extension        \n",
    "        print(actual)\n",
    "        foto = Image.open(actual)\n",
    "        datos = list(foto.getdata())           \n",
    "        foto.close()\n",
    "        toVal.append(datos)\n",
    "           "
   ]
  },
  {
   "cell_type": "code",
   "execution_count": null,
   "metadata": {},
   "outputs": [],
   "source": [
    "import numpy as np# permite trabajar con las funciones de arreglos\n",
    "import sklearn # para obtener el algoritmo clasificador\n",
    "from sklearn.model_selection import train_test_split # carga del modelo el set de entrenamiento\n",
    "from sklearn.neighbors import KNeighborsClassifier\n",
    "knn=KNeighborsClassifier(n_neighbors=2)\n",
    "knn.fit(toTrain,labels)\n",
    "\n"
   ]
  },
  {
   "cell_type": "code",
   "execution_count": null,
   "metadata": {},
   "outputs": [],
   "source": []
  }
 ],
 "metadata": {
  "kernelspec": {
   "display_name": "Python 3",
   "language": "python",
   "name": "python3"
  },
  "language_info": {
   "codemirror_mode": {
    "name": "ipython",
    "version": 3
   },
   "file_extension": ".py",
   "mimetype": "text/x-python",
   "name": "python",
   "nbconvert_exporter": "python",
   "pygments_lexer": "ipython3",
   "version": "3.6.6"
  }
 },
 "nbformat": 4,
 "nbformat_minor": 2
}
