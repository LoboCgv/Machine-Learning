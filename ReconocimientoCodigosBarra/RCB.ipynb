{
 "cells": [
  {
   "cell_type": "code",
   "execution_count": 1,
   "metadata": {},
   "outputs": [],
   "source": [
    "import pyzbar.pyzbar as pyzbar\n",
    "import numpy as np\n",
    "import cv2"
   ]
  },
  {
   "cell_type": "code",
   "execution_count": 2,
   "metadata": {},
   "outputs": [],
   "source": [
    "def tifrbar(tifname, txtname):    \n",
    "    try:\n",
    "        # carga imagen\n",
    "        tifimg = cv2.imread(tifname)\n",
    "        # carga códigos de barras de la imagen en lista\n",
    "        lstbc = pyzbar.decode(tifimg)\n",
    "        # recorre objetos encontrados\n",
    "        fptxt = open(txtname, 'w')    \n",
    "        for bc in lstbc: \n",
    "            npoint = bc.polygon\n",
    "            # estamos buscando un area rectangular, si hay más de 4 puntos intenta una aproximación\n",
    "            if len(npoint) > 4 : \n",
    "              hull = cv2.convexHull(np.array([point for point in npoint], dtype=np.float32))\n",
    "              hull = list(map(tuple, np.squeeze(hull)))\n",
    "            else : \n",
    "              hull = npoint\n",
    "            n = len(hull)\n",
    "            if (n>0):\n",
    "                # código válido\n",
    "                slinea=\"%s|%s\\n\" % (bc.data, bc.type)\n",
    "                print(slinea)\n",
    "                fptxt.write(slinea)\n",
    "        fptxt.closed\n",
    "        return True\n",
    "    except:\n",
    "        # si hay algún error...\n",
    "        print(\"ERROR de lectura, tifrbar\")\n",
    "    return False"
   ]
  },
  {
   "cell_type": "code",
   "execution_count": 11,
   "metadata": {},
   "outputs": [],
   "source": [
    "#!/usr/bin/env python3\n",
    "\"\"\"Writes bounding_box_and_polygon.png that illustrates\n",
    "\"\"\"\n",
    "from PIL import Image, ImageDraw\n",
    "\n",
    "from pyzbar.pyzbar import decode\n",
    "\n",
    "\n",
    "image = Image.open('./fotosCodigos/1.png').convert('RGB')\n",
    "draw = ImageDraw.Draw(image)\n",
    "for barcode in decode(image):\n",
    "    rect = barcode.rect\n",
    "    draw.rectangle(\n",
    "        (\n",
    "            (rect.left, rect.top),\n",
    "            (rect.left + rect.width, rect.top + rect.height)\n",
    "        ),\n",
    "        outline='#0080ff'\n",
    "    )\n",
    "    print(barcode[0])\n",
    "    #\n",
    "   # draw.polygon(barcode.polygon, outline='#e945ff')\n"
   ]
  },
  {
   "cell_type": "code",
   "execution_count": 21,
   "metadata": {},
   "outputs": [
    {
     "name": "stdout",
     "output_type": "stream",
     "text": [
      "[]\n"
     ]
    }
   ],
   "source": [
    "from __future__ import print_function\n",
    "import pyzbar.pyzbar as pyzbar\n",
    "import numpy as np\n",
    "import cv2\n",
    " \n",
    "def decode(im) : \n",
    "  # Find barcodes and QR codes\n",
    "    decodedObjects = pyzbar.decode(im)\n",
    " \n",
    "  # Print results\n",
    "    for obj in decodedObjects:\n",
    "        print('Type : ', obj.type)\n",
    "        print('Data : ', obj.data,'\\n')\n",
    "     \n",
    "    return decodedObjects\n",
    " \n",
    " \n",
    "# Display barcode and QR code location  \n",
    "def display(im, decodedObjects):\n",
    " \n",
    "  # Loop over all decoded objects\n",
    "  for decodedObject in decodedObjects: \n",
    "    points = decodedObject.polygon\n",
    " \n",
    "    # If the points do not form a quad, find convex hull\n",
    "    if len(points) > 4 : \n",
    "      hull = cv2.convexHull(np.array([point for point in points], dtype=np.float32))\n",
    "      hull = list(map(tuple, np.squeeze(hull)))\n",
    "    else : \n",
    "      hull = points;\n",
    "     \n",
    "    # Number of points in the convex hull\n",
    "    n = len(hull)\n",
    " \n",
    "    # Draw the convext hull\n",
    "    for j in range(0,n):\n",
    "      cv2.line(im, hull[j], hull[ (j+1) % n], (255,0,0), 3)\n",
    " \n",
    "  # Display results \n",
    "  cv2.imshow(\"Results\", im);\n",
    "  cv2.waitKey(0);\n",
    " \n",
    "   \n",
    "im = cv2.imread('./fotosCodigos/1.png')\n",
    " \n",
    "decodedObjects = decode(im)\n",
    "\n",
    "#display(im, decodedObjects)\n",
    "print(decodedObjects)"
   ]
  },
  {
   "cell_type": "code",
   "execution_count": null,
   "metadata": {},
   "outputs": [],
   "source": []
  }
 ],
 "metadata": {
  "kernelspec": {
   "display_name": "Python 3",
   "language": "python",
   "name": "python3"
  },
  "language_info": {
   "codemirror_mode": {
    "name": "ipython",
    "version": 3
   },
   "file_extension": ".py",
   "mimetype": "text/x-python",
   "name": "python",
   "nbconvert_exporter": "python",
   "pygments_lexer": "ipython3",
   "version": "3.6.6"
  }
 },
 "nbformat": 4,
 "nbformat_minor": 2
}
